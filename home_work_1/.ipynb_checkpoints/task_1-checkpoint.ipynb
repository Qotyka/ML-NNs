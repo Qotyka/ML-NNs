{
 "cells": [
  {
   "cell_type": "code",
   "execution_count": 23,
   "id": "dd58ea16-8c11-48c7-94f6-01dce44fddfd",
   "metadata": {},
   "outputs": [],
   "source": [
    "# Задание 1\n",
    "def x_powered(x: float = 1, n: int = 1) -> float:\n",
    "    accumulator = 1\n",
    "    for i in range(n):\n",
    "        accumulator = accumulator * x\n",
    "    return accumulator\n"
   ]
  },
  {
   "cell_type": "code",
   "execution_count": 25,
   "id": "808f141c-4b10-4d77-8be5-3a9858d3ac34",
   "metadata": {},
   "outputs": [
    {
     "name": "stdout",
     "output_type": "stream",
     "text": [
      "9.8596\n"
     ]
    }
   ],
   "source": [
    "# Проверка работы функции x_powered\n",
    "x = 3.14\n",
    "power = 2\n",
    "print(x_powered(x, 2))"
   ]
  },
  {
   "cell_type": "code",
   "execution_count": 26,
   "id": "6951f9b4-2df5-45e0-946b-a6ff57a108e0",
   "metadata": {},
   "outputs": [],
   "source": [
    "# Задание 2\n",
    "def max_list(list_of_numbers: list = []) -> float:\n",
    "    flag = 1\n",
    "    max = None\n",
    "    if len(list_of_numbers) == 0:\n",
    "        print(\"The list is empty\")\n",
    "        flag = 0\n",
    "    if flag:\n",
    "        max = list_of_numbers[0]\n",
    "        for elem in list_of_numbers:\n",
    "            if elem >= max:\n",
    "                max = elem\n",
    "    return max"
   ]
  },
  {
   "cell_type": "code",
   "execution_count": 32,
   "id": "a5c5c75b-54d6-405f-894d-5befe97eca6d",
   "metadata": {},
   "outputs": [
    {
     "name": "stdout",
     "output_type": "stream",
     "text": [
      "9\n",
      "The list is empty\n",
      "None\n"
     ]
    }
   ],
   "source": [
    "# Проверка работы функции max_list\n",
    "test_list_1 = [1, 4, 9, 2, 3, 0]\n",
    "print(max_list(test_list_1))\n",
    "print(max_list())"
   ]
  },
  {
   "cell_type": "code",
   "execution_count": 44,
   "id": "18574905-1d41-4ee6-85f8-95edf9b3277e",
   "metadata": {},
   "outputs": [],
   "source": [
    "# Задание 3\n",
    "def n_row_pascal_triangle(n: int = 0) -> list:\n",
    "    base = [[0, 1, 0]]\n",
    "    for index in range(n):\n",
    "        new_row = list()\n",
    "        for i in range(len(base[index])):\n",
    "            if i == 0:\n",
    "                new_row.append(base[index][i])\n",
    "            if i < len(base[index]) - 1:\n",
    "                new_row.append(base[index][i] + base[index][i + 1])\n",
    "            if i == len(base[index]) - 1:\n",
    "                new_row.append(base[index][i])\n",
    "        base.append(new_row)\n",
    "    base[n].remove(0)\n",
    "    base[n].remove(0)\n",
    "    return base[n]\n",
    "                "
   ]
  },
  {
   "cell_type": "code",
   "execution_count": 55,
   "id": "80ecf8e4-dee7-411b-81bb-df3c04892e26",
   "metadata": {},
   "outputs": [
    {
     "name": "stdout",
     "output_type": "stream",
     "text": [
      "[1, 5, 10, 10, 5, 1]\n",
      "[1]\n"
     ]
    }
   ],
   "source": [
    "# Проверка работы функции n_n_row_pascal_triangle\n",
    "x = 5\n",
    "print(n_row_pascal_triangle(x))\n",
    "print(n_row_pascal_triangle())"
   ]
  },
  {
   "cell_type": "code",
   "execution_count": null,
   "id": "fa533176-f8ac-49ff-b057-e95d296f4f17",
   "metadata": {},
   "outputs": [],
   "source": [
    "# Задание 3\n",
    "def sort_list(lst: list = None) -> list:\n",
    "    result_list = None\n",
    "    flag = 1\n",
    "    if lst is None or len(lst) == 0:\n",
    "        flag = 0\n",
    "        print(\"The list is empy or None\")\n",
    "    if flag:\n",
    "        result_list = lst\n",
    "        for i in range(len(lst)):\n",
    "            for j in range(i, len(lst)):\n",
    "                if result_list[i] <= result_list[j]:\n",
    "                    "
   ]
  }
 ],
 "metadata": {
  "kernelspec": {
   "display_name": "Python 3 (ipykernel)",
   "language": "python",
   "name": "python3"
  },
  "language_info": {
   "codemirror_mode": {
    "name": "ipython",
    "version": 3
   },
   "file_extension": ".py",
   "mimetype": "text/x-python",
   "name": "python",
   "nbconvert_exporter": "python",
   "pygments_lexer": "ipython3",
   "version": "3.12.5"
  }
 },
 "nbformat": 4,
 "nbformat_minor": 5
}
